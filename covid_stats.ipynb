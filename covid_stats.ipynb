{
 "cells": [
  {
   "cell_type": "markdown",
   "metadata": {},
   "source": [
    "## An exploration of covid case data\n",
    "\n",
    "I'm looking to explore the covid case data, particularly from a perspective of fitting a function to the data, out of both an interest in it's behaviour and possibly enabling future predictions for outbreaks.\n",
    "\n",
    "### Overview\n",
    "\n",
    "<ul>\n",
    "    <li>Fitting an expontential growth model</li>\n",
    "    <li>Fitting a logistic growth model</li>\n",
    "    <li>A Comparison with the UK and observing key events influence</li>\n",
    "    \n",
    "</ul>"
   ]
  },
  {
   "cell_type": "code",
   "execution_count": 1,
   "metadata": {},
   "outputs": [],
   "source": [
    "import pandas as pd\n",
    "import seaborn as sns\n",
    "import numpy as np\n",
    "import matplotlib.pyplot as plt\n",
    "import math\n",
    "\n",
    "covid_data = pd.read_csv('total-cases-covid-19.csv')\n"
   ]
  },
  {
   "cell_type": "code",
   "execution_count": 2,
   "metadata": {},
   "outputs": [
    {
     "data": {
      "text/html": [
       "<div>\n",
       "<style scoped>\n",
       "    .dataframe tbody tr th:only-of-type {\n",
       "        vertical-align: middle;\n",
       "    }\n",
       "\n",
       "    .dataframe tbody tr th {\n",
       "        vertical-align: top;\n",
       "    }\n",
       "\n",
       "    .dataframe thead th {\n",
       "        text-align: right;\n",
       "    }\n",
       "</style>\n",
       "<table border=\"1\" class=\"dataframe\">\n",
       "  <thead>\n",
       "    <tr style=\"text-align: right;\">\n",
       "      <th></th>\n",
       "      <th>Entity</th>\n",
       "      <th>Code</th>\n",
       "      <th>Date</th>\n",
       "      <th>Total confirmed cases of COVID-19 (cases)</th>\n",
       "    </tr>\n",
       "  </thead>\n",
       "  <tbody>\n",
       "    <tr>\n",
       "      <th>0</th>\n",
       "      <td>Afghanistan</td>\n",
       "      <td>AFG</td>\n",
       "      <td>Dec 31, 2019</td>\n",
       "      <td>0</td>\n",
       "    </tr>\n",
       "    <tr>\n",
       "      <th>1</th>\n",
       "      <td>Afghanistan</td>\n",
       "      <td>AFG</td>\n",
       "      <td>Jan 1, 2020</td>\n",
       "      <td>0</td>\n",
       "    </tr>\n",
       "    <tr>\n",
       "      <th>2</th>\n",
       "      <td>Afghanistan</td>\n",
       "      <td>AFG</td>\n",
       "      <td>Jan 2, 2020</td>\n",
       "      <td>0</td>\n",
       "    </tr>\n",
       "    <tr>\n",
       "      <th>3</th>\n",
       "      <td>Afghanistan</td>\n",
       "      <td>AFG</td>\n",
       "      <td>Jan 3, 2020</td>\n",
       "      <td>0</td>\n",
       "    </tr>\n",
       "    <tr>\n",
       "      <th>4</th>\n",
       "      <td>Afghanistan</td>\n",
       "      <td>AFG</td>\n",
       "      <td>Jan 4, 2020</td>\n",
       "      <td>0</td>\n",
       "    </tr>\n",
       "    <tr>\n",
       "      <th>...</th>\n",
       "      <td>...</td>\n",
       "      <td>...</td>\n",
       "      <td>...</td>\n",
       "      <td>...</td>\n",
       "    </tr>\n",
       "    <tr>\n",
       "      <th>29469</th>\n",
       "      <td>Zimbabwe</td>\n",
       "      <td>ZWE</td>\n",
       "      <td>Jun 25, 2020</td>\n",
       "      <td>530</td>\n",
       "    </tr>\n",
       "    <tr>\n",
       "      <th>29470</th>\n",
       "      <td>Zimbabwe</td>\n",
       "      <td>ZWE</td>\n",
       "      <td>Jun 26, 2020</td>\n",
       "      <td>551</td>\n",
       "    </tr>\n",
       "    <tr>\n",
       "      <th>29471</th>\n",
       "      <td>Zimbabwe</td>\n",
       "      <td>ZWE</td>\n",
       "      <td>Jun 27, 2020</td>\n",
       "      <td>561</td>\n",
       "    </tr>\n",
       "    <tr>\n",
       "      <th>29472</th>\n",
       "      <td>Zimbabwe</td>\n",
       "      <td>ZWE</td>\n",
       "      <td>Jun 28, 2020</td>\n",
       "      <td>567</td>\n",
       "    </tr>\n",
       "    <tr>\n",
       "      <th>29473</th>\n",
       "      <td>Zimbabwe</td>\n",
       "      <td>ZWE</td>\n",
       "      <td>Jun 29, 2020</td>\n",
       "      <td>567</td>\n",
       "    </tr>\n",
       "  </tbody>\n",
       "</table>\n",
       "<p>29474 rows × 4 columns</p>\n",
       "</div>"
      ],
      "text/plain": [
       "            Entity Code          Date  \\\n",
       "0      Afghanistan  AFG  Dec 31, 2019   \n",
       "1      Afghanistan  AFG   Jan 1, 2020   \n",
       "2      Afghanistan  AFG   Jan 2, 2020   \n",
       "3      Afghanistan  AFG   Jan 3, 2020   \n",
       "4      Afghanistan  AFG   Jan 4, 2020   \n",
       "...            ...  ...           ...   \n",
       "29469     Zimbabwe  ZWE  Jun 25, 2020   \n",
       "29470     Zimbabwe  ZWE  Jun 26, 2020   \n",
       "29471     Zimbabwe  ZWE  Jun 27, 2020   \n",
       "29472     Zimbabwe  ZWE  Jun 28, 2020   \n",
       "29473     Zimbabwe  ZWE  Jun 29, 2020   \n",
       "\n",
       "       Total confirmed cases of COVID-19 (cases)  \n",
       "0                                              0  \n",
       "1                                              0  \n",
       "2                                              0  \n",
       "3                                              0  \n",
       "4                                              0  \n",
       "...                                          ...  \n",
       "29469                                        530  \n",
       "29470                                        551  \n",
       "29471                                        561  \n",
       "29472                                        567  \n",
       "29473                                        567  \n",
       "\n",
       "[29474 rows x 4 columns]"
      ]
     },
     "execution_count": 2,
     "metadata": {},
     "output_type": "execute_result"
    }
   ],
   "source": [
    "covid_data"
   ]
  },
  {
   "cell_type": "markdown",
   "metadata": {},
   "source": [
    "### Fitting an expontential growth model\n",
    "\n",
    "First we will just look at how we need to transform the data to do this, getting some easy x values for graphing, but also we want our charts to start from the first cases. We don't care about the months worth of 0 cases in Australia.\n"
   ]
  },
  {
   "cell_type": "code",
   "execution_count": 3,
   "metadata": {},
   "outputs": [
    {
     "data": {
      "text/html": [
       "<div>\n",
       "<style scoped>\n",
       "    .dataframe tbody tr th:only-of-type {\n",
       "        vertical-align: middle;\n",
       "    }\n",
       "\n",
       "    .dataframe tbody tr th {\n",
       "        vertical-align: top;\n",
       "    }\n",
       "\n",
       "    .dataframe thead th {\n",
       "        text-align: right;\n",
       "    }\n",
       "</style>\n",
       "<table border=\"1\" class=\"dataframe\">\n",
       "  <thead>\n",
       "    <tr style=\"text-align: right;\">\n",
       "      <th></th>\n",
       "      <th>Entity</th>\n",
       "      <th>Code</th>\n",
       "      <th>Date</th>\n",
       "      <th>cases</th>\n",
       "      <th>time</th>\n",
       "    </tr>\n",
       "  </thead>\n",
       "  <tbody>\n",
       "    <tr>\n",
       "      <th>1825</th>\n",
       "      <td>Australia</td>\n",
       "      <td>AUS</td>\n",
       "      <td>2020-01-25</td>\n",
       "      <td>1</td>\n",
       "      <td>1.0</td>\n",
       "    </tr>\n",
       "    <tr>\n",
       "      <th>1826</th>\n",
       "      <td>Australia</td>\n",
       "      <td>AUS</td>\n",
       "      <td>2020-01-26</td>\n",
       "      <td>4</td>\n",
       "      <td>2.0</td>\n",
       "    </tr>\n",
       "    <tr>\n",
       "      <th>1827</th>\n",
       "      <td>Australia</td>\n",
       "      <td>AUS</td>\n",
       "      <td>2020-01-27</td>\n",
       "      <td>4</td>\n",
       "      <td>3.0</td>\n",
       "    </tr>\n",
       "    <tr>\n",
       "      <th>1828</th>\n",
       "      <td>Australia</td>\n",
       "      <td>AUS</td>\n",
       "      <td>2020-01-28</td>\n",
       "      <td>4</td>\n",
       "      <td>4.0</td>\n",
       "    </tr>\n",
       "    <tr>\n",
       "      <th>1829</th>\n",
       "      <td>Australia</td>\n",
       "      <td>AUS</td>\n",
       "      <td>2020-01-29</td>\n",
       "      <td>4</td>\n",
       "      <td>5.0</td>\n",
       "    </tr>\n",
       "    <tr>\n",
       "      <th>...</th>\n",
       "      <td>...</td>\n",
       "      <td>...</td>\n",
       "      <td>...</td>\n",
       "      <td>...</td>\n",
       "      <td>...</td>\n",
       "    </tr>\n",
       "    <tr>\n",
       "      <th>1962</th>\n",
       "      <td>Australia</td>\n",
       "      <td>AUS</td>\n",
       "      <td>2020-06-10</td>\n",
       "      <td>7267</td>\n",
       "      <td>138.0</td>\n",
       "    </tr>\n",
       "    <tr>\n",
       "      <th>1963</th>\n",
       "      <td>Australia</td>\n",
       "      <td>AUS</td>\n",
       "      <td>2020-06-11</td>\n",
       "      <td>7276</td>\n",
       "      <td>139.0</td>\n",
       "    </tr>\n",
       "    <tr>\n",
       "      <th>1964</th>\n",
       "      <td>Australia</td>\n",
       "      <td>AUS</td>\n",
       "      <td>2020-06-12</td>\n",
       "      <td>7285</td>\n",
       "      <td>140.0</td>\n",
       "    </tr>\n",
       "    <tr>\n",
       "      <th>1965</th>\n",
       "      <td>Australia</td>\n",
       "      <td>AUS</td>\n",
       "      <td>2020-06-13</td>\n",
       "      <td>7290</td>\n",
       "      <td>141.0</td>\n",
       "    </tr>\n",
       "    <tr>\n",
       "      <th>1966</th>\n",
       "      <td>Australia</td>\n",
       "      <td>AUS</td>\n",
       "      <td>2020-06-14</td>\n",
       "      <td>7302</td>\n",
       "      <td>142.0</td>\n",
       "    </tr>\n",
       "  </tbody>\n",
       "</table>\n",
       "<p>142 rows × 5 columns</p>\n",
       "</div>"
      ],
      "text/plain": [
       "         Entity Code       Date  cases   time\n",
       "1825  Australia  AUS 2020-01-25      1    1.0\n",
       "1826  Australia  AUS 2020-01-26      4    2.0\n",
       "1827  Australia  AUS 2020-01-27      4    3.0\n",
       "1828  Australia  AUS 2020-01-28      4    4.0\n",
       "1829  Australia  AUS 2020-01-29      4    5.0\n",
       "...         ...  ...        ...    ...    ...\n",
       "1962  Australia  AUS 2020-06-10   7267  138.0\n",
       "1963  Australia  AUS 2020-06-11   7276  139.0\n",
       "1964  Australia  AUS 2020-06-12   7285  140.0\n",
       "1965  Australia  AUS 2020-06-13   7290  141.0\n",
       "1966  Australia  AUS 2020-06-14   7302  142.0\n",
       "\n",
       "[142 rows x 5 columns]"
      ]
     },
     "execution_count": 3,
     "metadata": {},
     "output_type": "execute_result"
    }
   ],
   "source": [
    "# make an easier named column\n",
    "if 'Total confirmed cases of COVID-19 (cases)'  in covid_data.columns:\n",
    "    covid_data['cases'] = covid_data['Total confirmed cases of COVID-19 (cases)']\n",
    "    del covid_data['Total confirmed cases of COVID-19 (cases)']\n",
    "    \n",
    "\n",
    "#get Aus covid data form where cases start\n",
    "covid_data['Date'] =pd.to_datetime(covid_data['Date'])\n",
    "covid_data = covid_data[covid_data['Entity'] == 'Australia']\n",
    "covid_data = covid_data[covid_data['cases'] > 0]\n",
    "covid_data.sort_values(by=['Date'])\n",
    "\n",
    "#save copy for later\n",
    "original_covid_data = covid_data.copy(deep=True)\n",
    "\n",
    "\n",
    "#cut off for data (so we can predict after this date)\n",
    "covid_data = covid_data[covid_data['Date'] < '2020-06-15']\n",
    "\n",
    "\n",
    "# make easier x value thant Date\n",
    "covid_data['time'] = np.linspace(1, len(covid_data), len(covid_data))\n",
    "\n",
    "\n",
    "covid_data\n"
   ]
  },
  {
   "cell_type": "markdown",
   "metadata": {},
   "source": [
    "We can see the actual first case date here, but we will mainly plot along x with number of days for ease."
   ]
  },
  {
   "cell_type": "code",
   "execution_count": 4,
   "metadata": {},
   "outputs": [
    {
     "data": {
      "text/plain": [
       "Entity              Australia\n",
       "Code                      AUS\n",
       "Date      2020-01-25 00:00:00\n",
       "cases                       1\n",
       "time                        1\n",
       "Name: 1825, dtype: object"
      ]
     },
     "execution_count": 4,
     "metadata": {},
     "output_type": "execute_result"
    }
   ],
   "source": [
    "aus_first_case_date = covid_data.iloc[0]\n",
    "def get_date_simple_format_str(date):\n",
    "    return aus_first_case_date['Date'].strftime(\"%d-%m-%y\")\n",
    "aus_first_case_date"
   ]
  },
  {
   "cell_type": "code",
   "execution_count": 5,
   "metadata": {},
   "outputs": [],
   "source": [
    "def plot_addons(title, x_axis, y_axis):\n",
    "    plt.title(title)\n",
    "    plt.xlabel(x_axis)\n",
    "    plt.ylabel(y_axis)\n"
   ]
  },
  {
   "cell_type": "markdown",
   "metadata": {},
   "source": [
    "AUS infections vs time"
   ]
  },
  {
   "cell_type": "code",
   "execution_count": 6,
   "metadata": {},
   "outputs": [
    {
     "data": {
      "image/png": "[encoded data removed]",
      "text/plain": [
       "<Figure size 432x288 with 1 Axes>"
      ]
     },
     "metadata": {
      "needs_background": "light"
     },
     "output_type": "display_data"
    }
   ],
   "source": [
    "plt.plot(covid_data['time'], covid_data['cases']);\n",
    "plot_addons('AUS infections since ' + get_date_simple_format_str(aus_first_case_date) , 'Days', 'Total cases');"
   ]
  },
  {
   "cell_type": "markdown",
   "metadata": {},
   "source": [
    "Now we want to fit a curve to this data that resembles exponential growth, i.e. y=a*e^bx.  \n",
    "One way to do this, is we can transform our y to resemble a linear curve, then we can fit a linear regression to the new data.\n",
    "This would end up with a prediction model: log(y) = a*x + c.\n",
    "We can exponentiate the y to get the original value.\n",
    "\n",
    "https://towardsdatascience.com/modeling-exponential-growth-49a2b6f22e1f"
   ]
  },
  {
   "cell_type": "code",
   "execution_count": 7,
   "metadata": {},
   "outputs": [
    {
     "data": {
      "text/html": [
       "<div>\n",
       "<style scoped>\n",
       "    .dataframe tbody tr th:only-of-type {\n",
       "        vertical-align: middle;\n",
       "    }\n",
       "\n",
       "    .dataframe tbody tr th {\n",
       "        vertical-align: top;\n",
       "    }\n",
       "\n",
       "    .dataframe thead th {\n",
       "        text-align: right;\n",
       "    }\n",
       "</style>\n",
       "<table border=\"1\" class=\"dataframe\">\n",
       "  <thead>\n",
       "    <tr style=\"text-align: right;\">\n",
       "      <th></th>\n",
       "      <th>time</th>\n",
       "      <th>infections</th>\n",
       "      <th>log_infections</th>\n",
       "    </tr>\n",
       "  </thead>\n",
       "  <tbody>\n",
       "    <tr>\n",
       "      <th>1825</th>\n",
       "      <td>1.0</td>\n",
       "      <td>1</td>\n",
       "      <td>0.000000</td>\n",
       "    </tr>\n",
       "    <tr>\n",
       "      <th>1826</th>\n",
       "      <td>2.0</td>\n",
       "      <td>4</td>\n",
       "      <td>1.386294</td>\n",
       "    </tr>\n",
       "    <tr>\n",
       "      <th>1827</th>\n",
       "      <td>3.0</td>\n",
       "      <td>4</td>\n",
       "      <td>1.386294</td>\n",
       "    </tr>\n",
       "  </tbody>\n",
       "</table>\n",
       "</div>"
      ],
      "text/plain": [
       "      time  infections  log_infections\n",
       "1825   1.0           1        0.000000\n",
       "1826   2.0           4        1.386294\n",
       "1827   3.0           4        1.386294"
      ]
     },
     "execution_count": 7,
     "metadata": {},
     "output_type": "execute_result"
    }
   ],
   "source": [
    "# get log transform for exp regression\n",
    "new_df = pd.DataFrame({'time': covid_data['time'], \n",
    "                      'infections': covid_data['cases'],\n",
    "                      'log_infections': np.array(np.log(covid_data['cases']))})\n",
    "new_df.head(3)"
   ]
  },
  {
   "cell_type": "code",
   "execution_count": 8,
   "metadata": {},
   "outputs": [
    {
     "data": {
      "image/png": "[encoded data removed]",
      "text/plain": [
       "<Figure size 432x288 with 1 Axes>"
      ]
     },
     "metadata": {
      "needs_background": "light"
     },
     "output_type": "display_data"
    }
   ],
   "source": [
    "lin_Y = np.linspace(0, 8.5, 160)\n",
    "plt.plot(new_df['time'], new_df['log_infections'], label = 'log(y)');\n",
    "plt.plot(np.linspace(0, 160, 160), lin_Y, label='Linear')\n",
    "plt.legend()\n",
    "plot_addons('AUS infections since ' + get_date_simple_format_str(aus_first_case_date) , 'Days', 'Total cases (log(y))');"
   ]
  },
  {
   "cell_type": "markdown",
   "metadata": {},
   "source": [
    "This isn't a good sign, our 'linearly transoformed' data of log(y), is not very well transofrmed. Regardless, let's try and fit an exponential function as best we can.\n",
    "This will work by first fitting a simply linear model using the 'statsmodel' library, this will fit a line (like above) but Minimizing Least-Squares-Error to have a line that fits the data best. "
   ]
  },
  {
   "cell_type": "code",
   "execution_count": 9,
   "metadata": {},
   "outputs": [
    {
     "data": {
      "text/html": [
       "<table class=\"simpletable\">\n",
       "<caption>OLS Regression Results</caption>\n",
       "<tr>\n",
       "  <th>Dep. Variable:</th>     <td>log_infections</td>  <th>  R-squared (uncentered):</th>      <td>   0.950</td>\n",
       "</tr>\n",
       "<tr>\n",
       "  <th>Model:</th>                   <td>OLS</td>       <th>  Adj. R-squared (uncentered):</th> <td>   0.950</td>\n",
       "</tr>\n",
       "<tr>\n",
       "  <th>Method:</th>             <td>Least Squares</td>  <th>  F-statistic:       </th>          <td>   2682.</td>\n",
       "</tr>\n",
       "<tr>\n",
       "  <th>Date:</th>             <td>Tue, 07 Jul 2020</td> <th>  Prob (F-statistic):</th>          <td>1.20e-93</td>\n",
       "</tr>\n",
       "<tr>\n",
       "  <th>Time:</th>                 <td>13:36:17</td>     <th>  Log-Likelihood:    </th>          <td> -267.49</td>\n",
       "</tr>\n",
       "<tr>\n",
       "  <th>No. Observations:</th>      <td>   142</td>      <th>  AIC:               </th>          <td>   537.0</td>\n",
       "</tr>\n",
       "<tr>\n",
       "  <th>Df Residuals:</th>          <td>   141</td>      <th>  BIC:               </th>          <td>   539.9</td>\n",
       "</tr>\n",
       "<tr>\n",
       "  <th>Df Model:</th>              <td>     1</td>      <th>                     </th>              <td> </td>   \n",
       "</tr>\n",
       "<tr>\n",
       "  <th>Covariance Type:</th>      <td>nonrobust</td>    <th>                     </th>              <td> </td>   \n",
       "</tr>\n",
       "</table>\n",
       "<table class=\"simpletable\">\n",
       "<tr>\n",
       "    <td></td>      <th>coef</th>     <th>std err</th>      <th>t</th>      <th>P>|t|</th>  <th>[0.025</th>    <th>0.975]</th>  \n",
       "</tr>\n",
       "<tr>\n",
       "  <th>time</th> <td>    0.0842</td> <td>    0.002</td> <td>   51.790</td> <td> 0.000</td> <td>    0.081</td> <td>    0.087</td>\n",
       "</tr>\n",
       "</table>\n",
       "<table class=\"simpletable\">\n",
       "<tr>\n",
       "  <th>Omnibus:</th>       <td> 9.604</td> <th>  Durbin-Watson:     </th> <td>   0.008</td>\n",
       "</tr>\n",
       "<tr>\n",
       "  <th>Prob(Omnibus):</th> <td> 0.008</td> <th>  Jarque-Bera (JB):  </th> <td>  10.336</td>\n",
       "</tr>\n",
       "<tr>\n",
       "  <th>Skew:</th>          <td>-0.645</td> <th>  Prob(JB):          </th> <td> 0.00570</td>\n",
       "</tr>\n",
       "<tr>\n",
       "  <th>Kurtosis:</th>      <td> 2.715</td> <th>  Cond. No.          </th> <td>    1.00</td>\n",
       "</tr>\n",
       "</table><br/><br/>Warnings:<br/>[1] Standard Errors assume that the covariance matrix of the errors is correctly specified."
      ],
      "text/plain": [
       "<class 'statsmodels.iolib.summary.Summary'>\n",
       "\"\"\"\n",
       "                                 OLS Regression Results                                \n",
       "=======================================================================================\n",
       "Dep. Variable:         log_infections   R-squared (uncentered):                   0.950\n",
       "Model:                            OLS   Adj. R-squared (uncentered):              0.950\n",
       "Method:                 Least Squares   F-statistic:                              2682.\n",
       "Date:                Tue, 07 Jul 2020   Prob (F-statistic):                    1.20e-93\n",
       "Time:                        13:36:17   Log-Likelihood:                         -267.49\n",
       "No. Observations:                 142   AIC:                                      537.0\n",
       "Df Residuals:                     141   BIC:                                      539.9\n",
       "Df Model:                           1                                                  \n",
       "Covariance Type:            nonrobust                                                  \n",
       "==============================================================================\n",
       "                 coef    std err          t      P>|t|      [0.025      0.975]\n",
       "------------------------------------------------------------------------------\n",
       "time           0.0842      0.002     51.790      0.000       0.081       0.087\n",
       "==============================================================================\n",
       "Omnibus:                        9.604   Durbin-Watson:                   0.008\n",
       "Prob(Omnibus):                  0.008   Jarque-Bera (JB):               10.336\n",
       "Skew:                          -0.645   Prob(JB):                      0.00570\n",
       "Kurtosis:                       2.715   Cond. No.                         1.00\n",
       "==============================================================================\n",
       "\n",
       "Warnings:\n",
       "[1] Standard Errors assume that the covariance matrix of the errors is correctly specified.\n",
       "\"\"\""
      ]
     },
     "execution_count": 9,
     "metadata": {},
     "output_type": "execute_result"
    }
   ],
   "source": [
    "#https://towardsdatascience.com/modeling-exponential-growth-49a2b6f22e1f\n",
    "import matplotlib.pyplot as plt\n",
    "import numpy as np\n",
    "from sklearn import datasets, linear_model\n",
    "from sklearn.metrics import mean_squared_error, r2_score\n",
    "import statsmodels.api as sm\n",
    "\n",
    "added_constant = False\n",
    "\n",
    "X = new_df.time\n",
    "if added_constant:\n",
    "    X = sm.add_constant(X)\n",
    "\n",
    "mod = sm.OLS(new_df.log_infections, X)\n",
    "res = mod.fit()\n",
    "res.summary()"
   ]
  },
  {
   "cell_type": "code",
   "execution_count": 10,
   "metadata": {},
   "outputs": [
    {
     "data": {
      "text/plain": [
       "time    0.084232\n",
       "dtype: float64"
      ]
     },
     "execution_count": 10,
     "metadata": {},
     "output_type": "execute_result"
    }
   ],
   "source": [
    "par = res.params\n",
    "par"
   ]
  },
  {
   "cell_type": "code",
   "execution_count": 11,
   "metadata": {},
   "outputs": [
    {
     "name": "stdout",
     "output_type": "stream",
     "text": [
      "coefficient 1.0878817132647\n"
     ]
    }
   ],
   "source": [
    "# log(y) equation\n",
    "if added_constant:    \n",
    "    c = par[0]\n",
    "    b = par[1]\n",
    "    print('constant {}'.format(math.exp(c)))\n",
    "    print('coefficient {}'.format(math.exp(b)))\n",
    "else:\n",
    "    print('coefficient {}'.format(math.exp(par)))"
   ]
  },
  {
   "cell_type": "code",
   "execution_count": 12,
   "metadata": {},
   "outputs": [],
   "source": [
    "#    log(y) = log(b*x) + log(c)\n",
    "# => exp(log(y)) = exp(log(b) + log(x)) + exp(log(c))\n",
    "#                let log(x) = t\n",
    "#                = exp(log(b))*t) + exp(log(c))\n",
    "#              y = c + b*e^t\n",
    "\n",
    "def final_model(T, added_constant):\n",
    "    \n",
    "    if added_constant:\n",
    "        c = par[0]\n",
    "        b = par[1]\n",
    "        Y = math.exp(c) + (math.exp(b)**T)\n",
    "    else:\n",
    "        b = par\n",
    "        Y =(math.exp(b)**T)\n",
    "    return Y\n"
   ]
  },
  {
   "cell_type": "code",
   "execution_count": 13,
   "metadata": {},
   "outputs": [],
   "source": [
    "T = np.linspace(1, len(covid_data['cases']), len(covid_data['cases']))\n",
    "Y = final_model(T, added_constant)"
   ]
  },
  {
   "cell_type": "code",
   "execution_count": 14,
   "metadata": {},
   "outputs": [
    {
     "data": {
      "text/plain": [
       "1825   2020-01-25\n",
       "1826   2020-01-26\n",
       "1827   2020-01-27\n",
       "1828   2020-01-28\n",
       "1829   2020-01-29\n",
       "          ...    \n",
       "1962   2020-06-10\n",
       "1963   2020-06-11\n",
       "1964   2020-06-12\n",
       "1965   2020-06-13\n",
       "1966   2020-06-14\n",
       "Name: Date, Length: 142, dtype: datetime64[ns]"
      ]
     },
     "execution_count": 14,
     "metadata": {},
     "output_type": "execute_result"
    }
   ],
   "source": [
    "covid_data['Date']"
   ]
  },
  {
   "cell_type": "markdown",
   "metadata": {},
   "source": [
    "##### fitting log curve to our data (log model)\n",
    "\n",
    "Now we will plot this newly modelled data against the actual data:\n",
    "The linear model we created from our log(y), will need to be converted back. In terms of the original y. <br>\n",
    "log(y) = log(b*x) + log(c)<br>\n",
    "exp(log(y)) = exp(log(b) + log(x)) + exp(log(c))         -- >let log(x) = t)<br>\n",
    "            = exp(log(b))*t) + exp(log(c)))<br>\n",
    "            = c + b*e^t)<br>\n",
    "y = c + b*e^t\n",
    "\n",
    "So finally, we end up with a model fit to our data, after zooming in a bit closer in our second graph, we see that this model fits the data very poorly"
   ]
  },
  {
   "cell_type": "code",
   "execution_count": 15,
   "metadata": {},
   "outputs": [
    {
     "data": {
      "image/png": "[encoded data removed]",
      "text/plain": [
       "<Figure size 432x288 with 1 Axes>"
      ]
     },
     "metadata": {
      "needs_background": "light"
     },
     "output_type": "display_data"
    }
   ],
   "source": [
    "plt.plot(T, Y, 'bo', markersize=2, label='log model')\n",
    "plt.plot(T, covid_data['cases'], 'ro', markersize=2, label='original data')\n",
    "plt.legend()\n",
    "plot_addons('AUS infections log model vs original data since ' + get_date_simple_format_str(aus_first_case_date) , 'Days', 'Total cases');"
   ]
  },
  {
   "cell_type": "markdown",
   "metadata": {},
   "source": [
    "##### fitting log curve to our data (log model) - zoomed in"
   ]
  },
  {
   "cell_type": "code",
   "execution_count": 16,
   "metadata": {},
   "outputs": [
    {
     "data": {
      "image/png": "[encoded data removed]",
      "text/plain": [
       "<Figure size 432x288 with 1 Axes>"
      ]
     },
     "metadata": {
      "needs_background": "light"
     },
     "output_type": "display_data"
    }
   ],
   "source": [
    "plt.plot(covid_data['time'], Y, 'bo', markersize=2, label='log model');\n",
    "plt.plot(covid_data['time'], covid_data['cases'], 'ro', markersize=2, label='original data');\n",
    "plt.xlim((0, 130));\n",
    "plt.ylim((0, 20000));\n",
    "plt.legend();\n",
    "plot_addons('AUS infections log model vs original data since ' + get_date_simple_format_str(aus_first_case_date) , 'Days', 'Total cases');"
   ]
  },
  {
   "cell_type": "markdown",
   "metadata": {},
   "source": [
    "Before we move on to a better fit, let's just look at what actual compounding exponential growth might look like, we might expect if a virus had an absolute perfect environment in a largr population they coudl get close to something like this initially.\n",
    "\n",
    "And as we can see that this our growth in AUS was very slow and far form this."
   ]
  },
  {
   "cell_type": "markdown",
   "metadata": {},
   "source": [
    "##### Actual exponential growth"
   ]
  },
  {
   "cell_type": "code",
   "execution_count": 17,
   "metadata": {},
   "outputs": [
    {
     "data": {
      "image/png": "[encoded data removed]",
      "text/plain": [
       "<Figure size 432x288 with 1 Axes>"
      ]
     },
     "metadata": {
      "needs_background": "light"
     },
     "output_type": "display_data"
    }
   ],
   "source": [
    "basic_exp = np.exp(np.linspace(1, len(covid_data['cases']), len(covid_data['cases'])))\n",
    "plt.plot(covid_data['time'], basic_exp, label='basic exp model');\n",
    "plt.plot(covid_data['time'], covid_data['cases'], 'ro', markersize=2, label='original data');\n",
    "plt.xlim((0, 130));\n",
    "plt.ylim((0, 40000));\n",
    "plt.legend();\n",
    "plot_addons('Pure exponential growth (e^x) vs original data since ' + get_date_simple_format_str(aus_first_case_date) , 'Days', 'Total cases');"
   ]
  },
  {
   "cell_type": "markdown",
   "metadata": {},
   "source": [
    "#### Logistic Growth\n",
    "\n",
    "With a litte bit of research, you will find Epidemiologist will say that a logistic function fits this type of growth much better.\n",
    "\n",
    "##### Logistic function\n",
    "y(t) = c / 1 + a * e^(-bt)<br>\n",
    "t = time <br>\n",
    "c = max value (limiting value) i.e. max possible infections<br>\n",
    "b = growth coefficient<br>\n",
    "a = constant involved in the initial amount of ppl<br>\n",
    "\n",
    "This is particularly seen above from having variables that account for the fact that as the population becomes infected, the pool of possible people to infect is then reduced.\n",
    "\n",
    "In Python I can do this using the scipy.optimize function. This will essentially work by me giving it a function (being the logistic function shown above), and giving it the real data we have, and it plays around with the variables until the line that it plot is as close as possible to the line plotted from the original data. It again Minimizes the Least Squares to do this.\n",
    "\n",
    "\n"
   ]
  },
  {
   "cell_type": "code",
   "execution_count": 18,
   "metadata": {},
   "outputs": [],
   "source": [
    "# https://towardsdatascience.com/modeling-logistic-growth-1367dc971de2\n",
    "# logistic function \n",
    "# y(t) = c / 1 + a * e^(-bt)\n",
    "# t = time \n",
    "# c = max value (limiting value) i.e. max possible infections\n",
    "# b = growth coefficient\n",
    "# a = constant involved in the initial amount of ppl\n",
    "#   i.e. c/(1+a) = 1 (initial number set to 1)\n",
    "#                  therefore given some max we would get some c\n",
    "#                  for exmaple a max of 1000ppl (c = 1000), with a starting amount of 1\n",
    "#                  => 1000/(1+a) = 1, => a = 999\n",
    "\n",
    "def logistic_func(t, a, b, c, off):\n",
    "    return c / (1 + a*np.exp(-b*t))+off\n",
    "\n"
   ]
  },
  {
   "cell_type": "code",
   "execution_count": 19,
   "metadata": {},
   "outputs": [],
   "source": [
    "bounds = (0, [1000000000., 3., 24000000., 2])"
   ]
  },
  {
   "cell_type": "code",
   "execution_count": 20,
   "metadata": {},
   "outputs": [
    {
     "data": {
      "text/plain": [
       "array([0.50879683, 1.1178455 , 1.10703659, 0.37295628])"
      ]
     },
     "execution_count": 20,
     "metadata": {},
     "output_type": "execute_result"
    }
   ],
   "source": [
    "import scipy.optimize as optim\n",
    "import math\n",
    "\n",
    "opt_vars = None\n",
    "cov = None\n",
    "\n",
    "#we plan to use optimizer, therefore we need starting values\n",
    "p0 = np.random.exponential(size=4)\n",
    "p0\n"
   ]
  },
  {
   "cell_type": "code",
   "execution_count": 21,
   "metadata": {},
   "outputs": [
    {
     "name": "stdout",
     "output_type": "stream",
     "text": [
      "optimized values (for minimizing least squares) a: 437884.0248575159, b: 0.20064550578791024, c: 6956.1201242945635 d: 6.602868265023999e-17\n"
     ]
    }
   ],
   "source": [
    "opt_vars, cov = optim.curve_fit(logistic_func, covid_data['time'], covid_data['cases'], bounds=bounds, p0=p0)\n",
    "\n",
    "print('optimized values (for minimizing least squares) a: {}, b: {}, c: {} d: {}'.format(*opt_vars))"
   ]
  },
  {
   "cell_type": "code",
   "execution_count": 22,
   "metadata": {},
   "outputs": [
    {
     "data": {
      "text/plain": [
       "64.73959792848557"
      ]
     },
     "execution_count": 22,
     "metadata": {},
     "output_type": "execute_result"
    }
   ],
   "source": [
    "max_growth_t = math.log(opt_vars[0])/opt_vars[1]\n",
    "max_growth_t"
   ]
  },
  {
   "cell_type": "code",
   "execution_count": 23,
   "metadata": {},
   "outputs": [
    {
     "data": {
      "text/plain": [
       "0.015885722802596473"
      ]
     },
     "execution_count": 23,
     "metadata": {},
     "output_type": "execute_result"
    }
   ],
   "source": [
    "pop_initial_val = opt_vars[2]/(1+opt_vars[0])\n",
    "pop_initial_val"
   ]
  },
  {
   "cell_type": "code",
   "execution_count": 24,
   "metadata": {},
   "outputs": [],
   "source": [
    "Y = logistic_func(covid_data['time'], *opt_vars)"
   ]
  },
  {
   "cell_type": "markdown",
   "metadata": {},
   "source": [
    "##### Logistic modelling fitted to original data, plotted against original data\n",
    "\n",
    "We can see that already this is a great fit, and if we were to suddenly have an outbreak with a new virus that acted similarly to covid, and we had responded similarly, we could expect to predict very well how many cases we would have on a certain date. \n",
    "\n",
    "Or of more interest, we might be able to use it currently to predict the effect of an outbreak in the future."
   ]
  },
  {
   "cell_type": "code",
   "execution_count": 25,
   "metadata": {},
   "outputs": [
    {
     "data": {
      "image/png": "[encoded data removed]",
      "text/plain": [
       "<Figure size 720x432 with 1 Axes>"
      ]
     },
     "metadata": {
      "needs_background": "light"
     },
     "output_type": "display_data"
    }
   ],
   "source": [
    "plt.figure(figsize=(10, 6))\n",
    "plt.scatter(covid_data['time'], Y, label='logistic model', s=4);\n",
    "plt.plot(covid_data['time'], covid_data['cases'], 'ro', markersize=4, label='original data');\n",
    "plt.xlim((0, 140));\n",
    "plt.ylim((0, 8000));\n",
    "plt.legend();\n",
    "plot_addons('Logistic model vs original data since ' + get_date_simple_format_str(aus_first_case_date) , 'Days', 'Total cases');"
   ]
  },
  {
   "cell_type": "code",
   "execution_count": 26,
   "metadata": {},
   "outputs": [],
   "source": [
    "a = opt_vars[0]\n",
    "b = opt_vars[1]\n",
    "c = 24000000 #24mil\n",
    "d = opt_vars[3]\n",
    "Y = logistic_func(T, a, b, c, 1)\n",
    "#t, a, b, c, off):"
   ]
  },
  {
   "cell_type": "code",
   "execution_count": 27,
   "metadata": {},
   "outputs": [
    {
     "data": {
      "text/plain": [
       "1825   2020-01-25\n",
       "1826   2020-01-26\n",
       "1827   2020-01-27\n",
       "1828   2020-01-28\n",
       "1829   2020-01-29\n",
       "          ...    \n",
       "1962   2020-06-10\n",
       "1963   2020-06-11\n",
       "1964   2020-06-12\n",
       "1965   2020-06-13\n",
       "1966   2020-06-14\n",
       "Name: Date, Length: 142, dtype: datetime64[ns]"
      ]
     },
     "execution_count": 27,
     "metadata": {},
     "output_type": "execute_result"
    }
   ],
   "source": [
    "\n",
    "import matplotlib.dates as mdates\n",
    "import datetime as dt\n",
    "\n",
    "\n",
    "date = covid_data['Date']\n",
    "date"
   ]
  },
  {
   "cell_type": "code",
   "execution_count": 28,
   "metadata": {},
   "outputs": [],
   "source": [
    "date_str = [\"\".join(item) for item in date.astype(str)]"
   ]
  },
  {
   "cell_type": "code",
   "execution_count": 29,
   "metadata": {},
   "outputs": [],
   "source": [
    "date_look_up = {}\n",
    "for i in range(len(date_str)):\n",
    "    date_look_up[date_str[i]] = i\n",
    "\n",
    "def get_date_index(date, dict_lookup):\n",
    "    return dict_lookup[date]\n",
    "\n",
    "def get_date_from_index(index, dict_lookup):\n",
    "    for key, val in dict_lookup.items():\n",
    "        if index == val:\n",
    "            return key\n",
    "    return None\n"
   ]
  },
  {
   "cell_type": "code",
   "execution_count": 30,
   "metadata": {},
   "outputs": [
    {
     "data": {
      "text/plain": [
       "'2020-01-27'"
      ]
     },
     "execution_count": 30,
     "metadata": {},
     "output_type": "execute_result"
    }
   ],
   "source": [
    "get_date_from_index(2, date_look_up)"
   ]
  },
  {
   "cell_type": "markdown",
   "metadata": {},
   "source": [
    "#### Actual expected logistic model not being fit to previous data (Given free reign the infectin rate in a logistic model would have been far more rapid)\n",
    "\n",
    "Just to show how effective good measures against the spread of infeciton can be, I have plotted a pure logistic model with parameters such as the AUS population against the original data. Of course this doesn't truely represent a spread out population with different clusters of people (I'm sure epidemiologists have advanced methods for these thigns), but it shows again, that given a perfect environemnt using the logistic function, the outbreak would have been much worse. I'm also now introducing dates on the X-axis so we can start looking at the important milestones that might effect these curves."
   ]
  },
  {
   "cell_type": "code",
   "execution_count": 31,
   "metadata": {},
   "outputs": [
    {
     "data": {
      "image/png": "[encoded data removed]",
      "text/plain": [
       "<Figure size 720x432 with 1 Axes>"
      ]
     },
     "metadata": {
      "needs_background": "light"
     },
     "output_type": "display_data"
    }
   ],
   "source": [
    "new_t = []\n",
    "new_d = []\n",
    "new_t = [i for i in range(len(T)) if i % 5 == 0]\n",
    "new_d = [get_date_from_index(i, date_look_up) for i in new_t]\n",
    "\n",
    "\n",
    "plt.figure(figsize=(10, 6))\n",
    "plt.scatter(covid_data['time'], Y, label='logistic model');\n",
    "plt.plot(covid_data['time'], covid_data['cases'], 'ro', markersize=2, label='original data');\n",
    "plt.xticks(new_t, new_d, rotation='vertical')\n",
    "plt.xlim((0, len(covid_data['time'])));\n",
    "plt.ylim((0, 10000));\n",
    "plt.legend();\n",
    "plot_addons('Pure logistic model vs original data since ' + get_date_simple_format_str(aus_first_case_date) , 'Days', 'Total cases');"
   ]
  },
  {
   "cell_type": "code",
   "execution_count": 32,
   "metadata": {},
   "outputs": [],
   "source": [
    "#map event date to x value\n",
    "# https://www.mondaq.com/australia/operational-impacts-and-strategy/929622/timeline-of-key-social-economic-covid-19-events-affecting-australian-business\n",
    "china_border = '2020-02-01'\n",
    "international_self_iso_rule = '2020-03-16'\n",
    "international_travel_ban = '2020-03-17'\n",
    "indoor_gath_lt100 = '2020-03-18'\n",
    "int_non_cit_res_ban = '2020-03-21'\n",
    "lockdown_measure_1 = '2020-03-23'\n",
    "lockdown_measure_2 = '2020-03-26'\n",
    "lockdown_measure_3 = '2020-03-29'\n",
    "\n",
    "\n"
   ]
  },
  {
   "cell_type": "code",
   "execution_count": 33,
   "metadata": {},
   "outputs": [],
   "source": [
    "#Test - 1st date with cases should return 0th Index\n",
    "zeroth = get_date_index('2020-01-25', date_look_up)"
   ]
  },
  {
   "cell_type": "markdown",
   "metadata": {},
   "source": [
    "#### Key goverment responses during the COVID-19 pandemic\n",
    "\n",
    "Here we will look at the total cases, alongside what I personally consider crucial measures introduced by the AUS government during the crisis.\n",
    "https://www.mondaq.com/australia/operational-impacts-and-strategy/929622/timeline-of-key-social-economic-covid-19-events-affecting-australian-business\n",
    "\n",
    "**China border closure** = '2020-02-01'  --> https://www.scmp.com/news/asia/australasia/article/3048525/qantas-air-nz-suspend-china-flights-japan-declares <br>\n",
    "Flights form mainland china banned.\n",
    "\n",
    "**Isolation after int-flight** = '2020-03-16' <br>\n",
    "Anyone travelling into Australia internationally, must isolate for 2-weeks.\n",
    "\n",
    "**Int travel ban** = '2020-03-17' <br>\n",
    "Ban on any international flights from Australia\n",
    "\n",
    "**Ind Gather < 100** = '2020-03-18'<br>\n",
    "Ban on any indoor gatherings with more than 100 people.\n",
    "\n",
    "**Ban non-citizens arrival** = '2020-03-21' <br>\n",
    "No international visitors (non-citizens) allowed entry to Australia.\n",
    "\n",
    "**lockdown_measure_1** = '2020-03-23' <br>\n",
    "Australia starts to lock down - bars, clubs, cinemas, places of worship, casinos and gyms are closed; schools start to close\n",
    "\n",
    "**lockdown_measure_2** = '2020-03-26' <br>\n",
    "Australia locks down some more - restaurants, cafes, food courts, auction houses are closed; open house inspections banned; weddings restricted to 5 people in total; funerals to 10 people\n",
    "\n",
    "**lockdown_measure_3** = '2020-03-29' <br>\n",
    "Australian Government urges Australians to stay at home other than for food shopping, medical or care needs, exercise or work/education that cannot be done at home\n",
    "Australian Government states that no more than two people may be together in public."
   ]
  },
  {
   "cell_type": "code",
   "execution_count": 34,
   "metadata": {},
   "outputs": [
    {
     "data": {
      "image/png": "[encoded data removed]",
      "text/plain": [
       "<Figure size 720x432 with 1 Axes>"
      ]
     },
     "metadata": {
      "needs_background": "light"
     },
     "output_type": "display_data"
    }
   ],
   "source": [
    "\n",
    "plt.figure(figsize=(10, 6))\n",
    "#plt.scatter(T, Y, label='logistic model');\n",
    "plt.plot(T, covid_data['cases'], 'ro', markersize=2, label='original data');\n",
    "plt.xticks(new_t, new_d, rotation='vertical')\n",
    "plt.xlim((0, 70));\n",
    "plt.ylim((0, 10000));\n",
    "#plt.legend();\n",
    "\n",
    "def add_events_aus():\n",
    "    plt.axvline(get_date_index(china_border, date_look_up), color='b', linestyle='--', lw=1)\n",
    "    plt.text(get_date_index(china_border, date_look_up)-1,6000,'China border closure', rotation=90)\n",
    "\n",
    "    plt.axvline(get_date_index(international_self_iso_rule, date_look_up),  color='b', linestyle='--', lw=1)\n",
    "    plt.text(get_date_index(international_self_iso_rule, date_look_up)-1,6000,'Isolation after int-flight', rotation=90)\n",
    "\n",
    "    plt.axvline(get_date_index(international_travel_ban, date_look_up),  color='b', linestyle='--', lw=1)\n",
    "    plt.text(get_date_index(international_travel_ban, date_look_up)-1,6000,'Int travel ban', rotation=90)\n",
    "\n",
    "    plt.axvline(get_date_index(indoor_gath_lt100, date_look_up),  color='b', linestyle='--', lw=1)\n",
    "    plt.text(get_date_index(indoor_gath_lt100, date_look_up)-1,3000,'Ind Gather < 100', rotation=90)\n",
    "\n",
    "\n",
    "    plt.axvline(get_date_index(int_non_cit_res_ban, date_look_up),  color='b', linestyle='--', lw=1)\n",
    "    plt.text(get_date_index(int_non_cit_res_ban, date_look_up)-1,2000,'Ban non-citizens arrival', rotation=90)\n",
    "\n",
    "    plt.axvline(get_date_index(lockdown_measure_1, date_look_up),  color='b', linestyle='--', lw=1)\n",
    "    plt.text(get_date_index(lockdown_measure_1, date_look_up)-1,6000,'Lockdown 1', rotation=90)\n",
    "\n",
    "    plt.axvline(get_date_index(lockdown_measure_2, date_look_up),  color='b', linestyle='--', lw=1)\n",
    "    plt.text(get_date_index(lockdown_measure_2, date_look_up)-1,6000,'Lockdown 2', rotation=90)\n",
    "\n",
    "    plt.axvline(get_date_index(lockdown_measure_3, date_look_up),  color='b', linestyle='--', lw=1)\n",
    "    plt.text(get_date_index(lockdown_measure_3, date_look_up)-1,6000,'Lockdown 3', rotation=90)\n",
    "add_events_aus()\n",
    "plot_addons('Case data since ' + get_date_simple_format_str(aus_first_case_date) + ': including events' , 'Days', 'Total cases');"
   ]
  },
  {
   "cell_type": "markdown",
   "metadata": {},
   "source": [
    "Looking at the above graph we can see how AUS reponded with virus control measures as the case severity increased. Of high importance though, is our earliest measure, the blocking of flights form mainland China. We can see that this pretty much stiffled and speedy progress of the virus, but eventually after 2 weeks, the few cases of virus in AUS started to affect the population."
   ]
  },
  {
   "cell_type": "markdown",
   "metadata": {},
   "source": [
    "Now out of interest, we would like to compare with another Western country that has not had as much success with controlling the virus, The UK."
   ]
  },
  {
   "cell_type": "code",
   "execution_count": 42,
   "metadata": {},
   "outputs": [
    {
     "data": {
      "text/html": [
       "<div>\n",
       "<style scoped>\n",
       "    .dataframe tbody tr th:only-of-type {\n",
       "        vertical-align: middle;\n",
       "    }\n",
       "\n",
       "    .dataframe tbody tr th {\n",
       "        vertical-align: top;\n",
       "    }\n",
       "\n",
       "    .dataframe thead th {\n",
       "        text-align: right;\n",
       "    }\n",
       "</style>\n",
       "<table border=\"1\" class=\"dataframe\">\n",
       "  <thead>\n",
       "    <tr style=\"text-align: right;\">\n",
       "      <th></th>\n",
       "      <th>Entity</th>\n",
       "      <th>Code</th>\n",
       "      <th>Date</th>\n",
       "      <th>cases</th>\n",
       "      <th>time</th>\n",
       "    </tr>\n",
       "  </thead>\n",
       "  <tbody>\n",
       "    <tr>\n",
       "      <th>27177</th>\n",
       "      <td>United Kingdom</td>\n",
       "      <td>GBR</td>\n",
       "      <td>2020-01-28</td>\n",
       "      <td>0</td>\n",
       "      <td>1.0</td>\n",
       "    </tr>\n",
       "    <tr>\n",
       "      <th>27178</th>\n",
       "      <td>United Kingdom</td>\n",
       "      <td>GBR</td>\n",
       "      <td>2020-01-29</td>\n",
       "      <td>0</td>\n",
       "      <td>2.0</td>\n",
       "    </tr>\n",
       "    <tr>\n",
       "      <th>27179</th>\n",
       "      <td>United Kingdom</td>\n",
       "      <td>GBR</td>\n",
       "      <td>2020-01-30</td>\n",
       "      <td>0</td>\n",
       "      <td>3.0</td>\n",
       "    </tr>\n",
       "    <tr>\n",
       "      <th>27180</th>\n",
       "      <td>United Kingdom</td>\n",
       "      <td>GBR</td>\n",
       "      <td>2020-01-31</td>\n",
       "      <td>2</td>\n",
       "      <td>4.0</td>\n",
       "    </tr>\n",
       "    <tr>\n",
       "      <th>27181</th>\n",
       "      <td>United Kingdom</td>\n",
       "      <td>GBR</td>\n",
       "      <td>2020-02-01</td>\n",
       "      <td>2</td>\n",
       "      <td>5.0</td>\n",
       "    </tr>\n",
       "  </tbody>\n",
       "</table>\n",
       "</div>"
      ],
      "text/plain": [
       "               Entity Code       Date  cases  time\n",
       "27177  United Kingdom  GBR 2020-01-28      0   1.0\n",
       "27178  United Kingdom  GBR 2020-01-29      0   2.0\n",
       "27179  United Kingdom  GBR 2020-01-30      0   3.0\n",
       "27180  United Kingdom  GBR 2020-01-31      2   4.0\n",
       "27181  United Kingdom  GBR 2020-02-01      2   5.0"
      ]
     },
     "execution_count": 42,
     "metadata": {},
     "output_type": "execute_result"
    }
   ],
   "source": [
    "covid_data_gb = pd.read_csv(\"total-cases-covid-19.csv\")\n",
    "#[print(i) for i in covid_data_gb['Entity'].unique()] - to look at names\n",
    "\n",
    "# make an easier named column\n",
    "if 'Total confirmed cases of COVID-19 (cases)'  in covid_data_gb.columns:\n",
    "    covid_data_gb['cases'] = covid_data_gb['Total confirmed cases of COVID-19 (cases)']\n",
    "    del covid_data_gb['Total confirmed cases of COVID-19 (cases)']\n",
    "\n",
    "\n",
    "covid_data_gb = covid_data_gb[covid_data_gb['Entity'] == 'United Kingdom']\n",
    "covid_data_gb['Date'] =pd.to_datetime(covid_data_gb['Date'])\n",
    "#want to include the date for when china flights were closed\n",
    "covid_data_gb = covid_data_gb[covid_data_gb['Date'] >= '2020-01-28']\n",
    "\n",
    "covid_data_gb['time'] = np.linspace(1, len(covid_data_gb), len(covid_data_gb))\n",
    "\n",
    "covid_data_gb.sort_values(by=['Date'])\n",
    "covid_data_gb.head(5)\n"
   ]
  },
  {
   "cell_type": "markdown",
   "metadata": {},
   "source": [
    "You may notice I am picking data form slightly before the first cases, that is so in later charting I can include an earlier event from the UK's responses."
   ]
  },
  {
   "cell_type": "code",
   "execution_count": 43,
   "metadata": {},
   "outputs": [],
   "source": [
    "#british key dates\n",
    "british_airways_susp_china_flights = '2020-01-28'\n",
    "international_self_iso_rule_some_countries_gb = '2020-02-25'\n",
    "self_iso_when_sick_gb = '2020-03-12'\n",
    "#https://www.aljazeera.com/news/2020/03/coronavirus-travel-restrictions-border-shutdowns-country-200318091505922.html\n",
    "advices_against_non_essential_travel_worldwide = '2020-03-17'\n",
    "ordered_closure_pubs_resteraunts_school_gb =  '2020-03-20'\n",
    "must_stay_home = '2020-03-24'\n",
    "\n",
    "date = covid_data_gb['Date']\n",
    "date_str_gb = [\"\".join(item) for item in date.astype(str)]\n",
    "date_look_up_gb = {}\n",
    "for i in range(len(date_str_gb)):\n",
    "    date_look_up_gb[date_str_gb[i]] = i"
   ]
  },
  {
   "cell_type": "markdown",
   "metadata": {},
   "source": []
  },
  {
   "cell_type": "code",
   "execution_count": 44,
   "metadata": {},
   "outputs": [],
   "source": [
    "max_t = max([len(covid_data_gb), len(covid_data)])\n",
    "t_diff = abs(len(covid_data) - len(covid_data_gb))"
   ]
  },
  {
   "cell_type": "markdown",
   "metadata": {},
   "source": [
    "Now I will also try and include some key dates form the UK's response to the virus. I will work of this link:\n",
    "https://en.wikipedia.org/wiki/Timeline_of_the_COVID-19_pandemic_in_the_United_Kingdom\n",
    "However I've found it hard to interpret the difference between a 'recommendation' and an actual law to be followed in some of these instances. However historically speaking, we know the UK was slow and soft in it's reponse to the virus, so we may interpret some of this key-dates as potentially softer implementations.\n",
    "\n",
    "**british_airways_susp_china_flights** = '2020-01-28'<br>\n",
    "British airways suspends all flights to/form mainland China.\n",
    "\n",
    "**international_self_iso_rule_some_countries_gb** = '2020-02-25'<br>\n",
    "Must self-solate if returning form Hubei, Iran, and certain regions of South Korea.\n",
    "\n",
    "**self_iso_when_sick_gb** = '2020-03-12' #https://www.aljazeera.com/news/2020/03/coronavirus-travel-restrictions-border-shutdowns-country-200318091505922.html <br>\n",
    "The government advises that anyone with a new continuous cough or a fever should self-isolate for seven days. Schools are asked to cancel trips abroad, and people over 70 and those with pre-existing medical conditions are advised to avoid cruises.\n",
    "\n",
    "**advices_against_non_essential_travel_worldwide** = '2020-03-17' <br>\n",
    "The Foreign and Commonwealth Office advises against all non-essential international travel due to the pandemic and the border restrictions put in place by many countries in response.\n",
    "\n",
    "**ordered_closure_pubs_resteraunts_school_gb** = '2020-03-20'<br>\n",
    "Closure of pubs, resteraunts, schools.\n",
    "\n",
    "Following these, I feel that the further events, cancellations etc. are still quite soft, and not impactful (my subjective opinion), for exmaple Australia limiting public interactions to 2 ppl only at our peak of lockdown, looks very severe compared to some of the above. \n",
    "\n",
    "**must_stay_home** = '2020-03-24' <br>\n",
    "For the first time, all of the UK's mobile networks send out a government text alert, ordering people to stay at home. The message reads: \"GOV.UK CORONAVIRUS ALERT. New rules in force now: you must stay at home. More info and exemptions at gov.uk/coronavirus Stay at home. Protect the NHS. Save lives.\"\n"
   ]
  },
  {
   "cell_type": "code",
   "execution_count": 45,
   "metadata": {},
   "outputs": [
    {
     "data": {
      "image/png": "[encoded data removed]",
      "text/plain": [
       "<Figure size 1440x864 with 2 Axes>"
      ]
     },
     "metadata": {
      "needs_background": "light"
     },
     "output_type": "display_data"
    }
   ],
   "source": [
    "#make percentage population data instead\n",
    "england_pop = 55980000\n",
    "aus_pop = 25000000\n",
    "\n",
    "#starting from earliest data\n",
    "T = np.linspace(1, max_t, max_t)\n",
    "\n",
    "#to allow the extra event in early\n",
    "\n",
    "#gb_cases = np.concatenate((np.zeros(t_diff), np.array(covid_data_gb['cases'])))\n",
    "\n",
    "\n",
    "perc_pop_inf_gb = np.true_divide(np.array(covid_data_gb['cases']), england_pop)\n",
    "perc_pop_inf_aus = np.true_divide(np.array(covid_data['cases']), aus_pop)\n",
    "\n",
    "covid_data_gb['perc_pop_inf_gb'] = perc_pop_inf_gb\n",
    "covid_data['perc_pop_inf_aus']= perc_pop_inf_aus\n",
    "\n",
    "fig = plt.figure(figsize=(20, 12))\n",
    "#plt.title('title')\n",
    "    #plt.xlabel(x_axis)\n",
    "    #plt.ylabel(y_axis)\n",
    "\n",
    "ax1 = fig.add_subplot(121)\n",
    "ax1.set_xticks(new_t)\n",
    "ax1.set_xticklabels(new_d)\n",
    "#ax1.tick_params(axis='x', rotation=90)\n",
    "\n",
    "ax1.set_xlim((0, 140));\n",
    "ax1.set_ylim((0, 0.0005));\n",
    "covid_data_gb.plot(ax=ax1, x='time', y='perc_pop_inf_gb', subplots=True)\n",
    "\n",
    "#gb dates\n",
    "ax1.axvline(get_date_index(british_airways_susp_china_flights, date_look_up_gb)+1,  color='r', linestyle='--', lw=1)\n",
    "plt.text(get_date_index(british_airways_susp_china_flights, date_look_up_gb)+2,0.0003,'british_airways_susp_china_flights', rotation=90)\n",
    "\n",
    "ax1.axvline(get_date_index(international_self_iso_rule_some_countries_gb, date_look_up_gb),  color='r', linestyle='--', lw=1)\n",
    "plt.text(get_date_index(international_self_iso_rule_some_countries_gb, date_look_up_gb)-2,0.0003,'international_self_iso_rule_some_countries_gb', rotation=90)\n",
    "\n",
    "ax1.axvline(get_date_index(self_iso_when_sick_gb, date_look_up_gb),  color='r', linestyle='--', lw=1)\n",
    "plt.text(get_date_index(self_iso_when_sick_gb, date_look_up_gb)-2,0.0003,'self iso when sick', rotation=90)\n",
    "\n",
    "ax1.axvline(get_date_index(must_stay_home, date_look_up_gb),  color='r', linestyle='--', lw=1)\n",
    "plt.text(get_date_index(must_stay_home, date_look_up_gb)-2,0.0003,'must stay home', rotation=90)\n",
    "\n",
    "ax1.axvline(get_date_index(ordered_closure_pubs_resteraunts_school_gb, date_look_up_gb),  color='r', linestyle='--', lw=1)\n",
    "plt.text(get_date_index(ordered_closure_pubs_resteraunts_school_gb, date_look_up_gb)-2,0.0003,'pub/rest etc. closures', rotation=90)\n",
    "\n",
    "\n",
    "ax2 = fig.add_subplot(122)\n",
    "\n",
    "ax2.set_xlim((0, 140));\n",
    "ax2.set_ylim((0, 0.0005));\n",
    "covid_data.plot(ax=ax2, x='time', y='perc_pop_inf_aus', subplots=True)\n",
    "ax2.set_xticks(new_t)\n",
    "ax2.set_xticklabels(new_d)\n",
    "\n",
    "#aus dates\n",
    "ax2.axvline(get_date_index(china_border, date_look_up), color='b', linestyle='--', lw=1)\n",
    "plt.text(get_date_index(china_border, date_look_up)-2,0.0003,'China border closure', rotation=90)\n",
    "\n",
    "ax2.axvline(get_date_index(international_self_iso_rule, date_look_up),  color='b', linestyle='--', lw=1)\n",
    "plt.text(get_date_index(international_self_iso_rule, date_look_up)-2,0.0001,'Isolation after int-flight', rotation=90)\n",
    "\n",
    "ax2.axvline(get_date_index(international_travel_ban, date_look_up),  color='b', linestyle='--', lw=1)\n",
    "plt.text(get_date_index(international_travel_ban, date_look_up)-2,0.0002,'Int travel ban', rotation=90)\n",
    "\n",
    "ax2.axvline(get_date_index(indoor_gath_lt100, date_look_up),  color='b', linestyle='--', lw=1)\n",
    "plt.text(get_date_index(indoor_gath_lt100, date_look_up)-2,0.0003,'Ind Gather < 100', rotation=90)\n",
    "\n",
    "\n",
    "ax2.axvline(get_date_index(int_non_cit_res_ban, date_look_up),  color='b', linestyle='--', lw=1)\n",
    "plt.text(get_date_index(int_non_cit_res_ban, date_look_up)-2,0.0001,'Ban non-citizens arrival', rotation=90)\n",
    "\n",
    "ax2.axvline(get_date_index(lockdown_measure_1, date_look_up),  color='b', linestyle='--', lw=1)\n",
    "plt.text(get_date_index(lockdown_measure_1, date_look_up)-2,0.0002,'Lockdown 1', rotation=90)\n",
    "\n",
    "ax2.axvline(get_date_index(lockdown_measure_2, date_look_up),  color='b', linestyle='--', lw=1)\n",
    "plt.text(get_date_index(lockdown_measure_2, date_look_up)-2,0.0003,'Lockdown 2', rotation=90)\n",
    "\n",
    "ax2.axvline(get_date_index(lockdown_measure_3, date_look_up),  color='b', linestyle='--', lw=1)\n",
    "plt.text(get_date_index(lockdown_measure_3, date_look_up)-2,0.0004,'Lockdown 3', rotation=90)\n",
    "    \n",
    "\n",
    "for ax in fig.axes:\n",
    "    plt.sca(ax)\n",
    "    plt.xticks(rotation=90)\n",
    "    \n"
   ]
  },
  {
   "cell_type": "code",
   "execution_count": 46,
   "metadata": {},
   "outputs": [
    {
     "data": {
      "text/html": [
       "<div>\n",
       "<style scoped>\n",
       "    .dataframe tbody tr th:only-of-type {\n",
       "        vertical-align: middle;\n",
       "    }\n",
       "\n",
       "    .dataframe tbody tr th {\n",
       "        vertical-align: top;\n",
       "    }\n",
       "\n",
       "    .dataframe thead th {\n",
       "        text-align: right;\n",
       "    }\n",
       "</style>\n",
       "<table border=\"1\" class=\"dataframe\">\n",
       "  <thead>\n",
       "    <tr style=\"text-align: right;\">\n",
       "      <th></th>\n",
       "      <th>Date</th>\n",
       "      <th>Active Cases</th>\n",
       "    </tr>\n",
       "  </thead>\n",
       "  <tbody>\n",
       "    <tr>\n",
       "      <th>0</th>\n",
       "      <td>15/06/2020</td>\n",
       "      <td>40</td>\n",
       "    </tr>\n",
       "    <tr>\n",
       "      <th>1</th>\n",
       "      <td>16/06/2020</td>\n",
       "      <td>51</td>\n",
       "    </tr>\n",
       "    <tr>\n",
       "      <th>2</th>\n",
       "      <td>17/06/2020</td>\n",
       "      <td>70</td>\n",
       "    </tr>\n",
       "    <tr>\n",
       "      <th>3</th>\n",
       "      <td>18/06/2020</td>\n",
       "      <td>81</td>\n",
       "    </tr>\n",
       "    <tr>\n",
       "      <th>4</th>\n",
       "      <td>19/06/2020</td>\n",
       "      <td>91</td>\n",
       "    </tr>\n",
       "    <tr>\n",
       "      <th>5</th>\n",
       "      <td>20/06/2020</td>\n",
       "      <td>110</td>\n",
       "    </tr>\n",
       "    <tr>\n",
       "      <th>6</th>\n",
       "      <td>21/06/2020</td>\n",
       "      <td>121</td>\n",
       "    </tr>\n",
       "    <tr>\n",
       "      <th>7</th>\n",
       "      <td>22/06/2020</td>\n",
       "      <td>125</td>\n",
       "    </tr>\n",
       "    <tr>\n",
       "      <th>8</th>\n",
       "      <td>23/06/2020</td>\n",
       "      <td>131</td>\n",
       "    </tr>\n",
       "    <tr>\n",
       "      <th>9</th>\n",
       "      <td>24/06/2020</td>\n",
       "      <td>141</td>\n",
       "    </tr>\n",
       "    <tr>\n",
       "      <th>10</th>\n",
       "      <td>25/06/2020</td>\n",
       "      <td>163</td>\n",
       "    </tr>\n",
       "    <tr>\n",
       "      <th>11</th>\n",
       "      <td>26/06/2020</td>\n",
       "      <td>183</td>\n",
       "    </tr>\n",
       "    <tr>\n",
       "      <th>12</th>\n",
       "      <td>27/06/2020</td>\n",
       "      <td>204</td>\n",
       "    </tr>\n",
       "    <tr>\n",
       "      <th>13</th>\n",
       "      <td>28/06/2020</td>\n",
       "      <td>231</td>\n",
       "    </tr>\n",
       "    <tr>\n",
       "      <th>14</th>\n",
       "      <td>29/06/2020</td>\n",
       "      <td>288</td>\n",
       "    </tr>\n",
       "    <tr>\n",
       "      <th>15</th>\n",
       "      <td>30/06/2020</td>\n",
       "      <td>321</td>\n",
       "    </tr>\n",
       "    <tr>\n",
       "      <th>16</th>\n",
       "      <td>1/07/2020</td>\n",
       "      <td>370</td>\n",
       "    </tr>\n",
       "    <tr>\n",
       "      <th>17</th>\n",
       "      <td>2/07/2020</td>\n",
       "      <td>415</td>\n",
       "    </tr>\n",
       "    <tr>\n",
       "      <th>18</th>\n",
       "      <td>3/07/2020</td>\n",
       "      <td>442</td>\n",
       "    </tr>\n",
       "    <tr>\n",
       "      <th>19</th>\n",
       "      <td>4/07/2020</td>\n",
       "      <td>509</td>\n",
       "    </tr>\n",
       "    <tr>\n",
       "      <th>20</th>\n",
       "      <td>5/07/2020</td>\n",
       "      <td>543</td>\n",
       "    </tr>\n",
       "    <tr>\n",
       "      <th>21</th>\n",
       "      <td>6/07/2020</td>\n",
       "      <td>645</td>\n",
       "    </tr>\n",
       "    <tr>\n",
       "      <th>22</th>\n",
       "      <td>7/07/2020</td>\n",
       "      <td>772</td>\n",
       "    </tr>\n",
       "  </tbody>\n",
       "</table>\n",
       "</div>"
      ],
      "text/plain": [
       "          Date  Active Cases\n",
       "0   15/06/2020            40\n",
       "1   16/06/2020            51\n",
       "2   17/06/2020            70\n",
       "3   18/06/2020            81\n",
       "4   19/06/2020            91\n",
       "5   20/06/2020           110\n",
       "6   21/06/2020           121\n",
       "7   22/06/2020           125\n",
       "8   23/06/2020           131\n",
       "9   24/06/2020           141\n",
       "10  25/06/2020           163\n",
       "11  26/06/2020           183\n",
       "12  27/06/2020           204\n",
       "13  28/06/2020           231\n",
       "14  29/06/2020           288\n",
       "15  30/06/2020           321\n",
       "16   1/07/2020           370\n",
       "17   2/07/2020           415\n",
       "18   3/07/2020           442\n",
       "19   4/07/2020           509\n",
       "20   5/07/2020           543\n",
       "21   6/07/2020           645\n",
       "22   7/07/2020           772"
      ]
     },
     "execution_count": 46,
     "metadata": {},
     "output_type": "execute_result"
    }
   ],
   "source": [
    "active_VIC_cases = pd.read_csv('active_cases_VIC_june.csv')\n",
    "active_VIC_cases"
   ]
  },
  {
   "cell_type": "code",
   "execution_count": 48,
   "metadata": {},
   "outputs": [
    {
     "data": {
      "image/png": "[encoded data removed]",
      "text/plain": [
       "<Figure size 720x432 with 1 Axes>"
      ]
     },
     "metadata": {
      "needs_background": "light"
     },
     "output_type": "display_data"
    }
   ],
   "source": [
    "#new outbreak ~June 15 (15 new cases)\n",
    "# logistic function \n",
    "# y(t) = c / 1 + a * e^(-bt)\n",
    "# t = time \n",
    "# c = max value (limiting value) i.e. max possible infections\n",
    "# b = growth coefficient\n",
    "# a = constant involved in the initial amount of ppl\n",
    "#   i.e. c/(1+a) = 1 (initial number set to 1)\n",
    "#                  therefore given some max we would get some c\n",
    "#                  for exmaple a max of 1000ppl (c = 1000), with a starting amount of 1\n",
    "#                  => 1000/(1+a) = 1, => a = 999\n",
    "# def logistic_func(t, a, b, c, off):\n",
    "\n",
    "#382 #number of active cases on June 15 (as per stats online) https://www.worldometers.info/coronavirus/country/australia/\n",
    "a = opt_vars[0]\n",
    "b = opt_vars[1]\n",
    "c = opt_vars[2]\n",
    "\n",
    "#https://covidlive.com.au/report/daily-active-cases/vic\n",
    "#if c / (1+a) = num_ppl\n",
    "#we know at estimated outbreak time num_ppl(ACTIVE) = 40\n",
    "#then -> new_a = (c-382)/382\n",
    "#change to population is negligible at this stage (unless ppl have heard immunity and there are many who have already had the virus)\n",
    "number_active_cases = 40\n",
    "opt_vars[0] = (c-number_active_cases)/number_active_cases\n",
    "\n",
    "num_days_ahead = 140\n",
    "\n",
    "#set cases to 0 for graph - but model should still take into account current number\n",
    "#this number is only used to plot the real data\n",
    "#since_outbreak_cases['cases'] = since_outbreak_cases['cases'] - covid_data['cases'].iloc[i]\n",
    "T = np.linspace(1,  num_days_ahead, num_days_ahead)\n",
    "modelled_outbreak = logistic_func(T, *opt_vars)\n",
    "\n",
    "\n",
    "plt.figure(figsize=(10, 6))\n",
    "plt.scatter(T[0:len(active_VIC_cases)], active_VIC_cases['Active Cases'], label='actual');\n",
    "plt.plot(T, modelled_outbreak, 'r--', markersize=2, label='modelled');\n",
    "#plt.plot(T, covid_data['cases'][0:len(T)], 'go', markersize=2, label='original growth in first 50 days');\n",
    "plt.xlim((0, 60));\n",
    "plt.ylim((0, 4000));\n",
    "plt.legend();\n",
    "plot_addons('Prediction model vs Active case data (VIC) since: ' + '15-06-20' , 'Days', 'Cases in new outbreak');"
   ]
  },
  {
   "cell_type": "code",
   "execution_count": null,
   "metadata": {},
   "outputs": [],
   "source": [
    "#Need to actual model again but off Victorian numbers\n"
   ]
  }
 ],
 "metadata": {
  "kernelspec": {
   "display_name": "Python 3",
   "language": "python",
   "name": "python3"
  },
  "language_info": {
   "codemirror_mode": {
    "name": "ipython",
    "version": 3
   },
   "file_extension": ".py",
   "mimetype": "text/x-python",
   "name": "python",
   "nbconvert_exporter": "python",
   "pygments_lexer": "ipython3",
   "version": "3.7.4"
  }
 },
 "nbformat": 4,
 "nbformat_minor": 4
}
